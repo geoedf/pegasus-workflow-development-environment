{
 "cells": [
  {
   "cell_type": "code",
   "execution_count": 1,
   "metadata": {},
   "outputs": [],
   "source": [
    "import logging\n",
    "from pathlib import Path\n",
    "from IPython.core.display import SVG\n",
    "from Pegasus.api import *"
   ]
  },
  {
   "cell_type": "markdown",
   "metadata": {},
   "source": [
    "# Hierarchical Workflow"
   ]
  },
  {
   "cell_type": "code",
   "execution_count": 2,
   "metadata": {},
   "outputs": [
    {
     "data": {
      "image/svg+xml": [
       "<svg viewBox=\"0.00 0.00 666.00 227.00\" xmlns=\"http://www.w3.org/2000/svg\" xmlns:xlink=\"http://www.w3.org/1999/xlink\"><g class=\"graph\" id=\"graph1\" transform=\"scale(1 1) rotate(0) translate(4 223)\"><title>G</title><polygon fill=\"white\" points=\"-4,5 -4,-223 663,-223 663,5 -4,5\" stroke=\"white\"/><g class=\"cluster\" id=\"graph2\"><title>cluster_a</title><polygon fill=\"none\" points=\"8,-8 8,-211 650,-211 650,-8 8,-8\" stroke=\"lightgray\"/><text font-family=\"Times,serif\" font-size=\"14.00\" text-anchor=\"middle\" x=\"329\" y=\"-194.4\">root workflow</text></g><g class=\"cluster\" id=\"graph3\"><title>cluster_0</title><polygon fill=\"none\" points=\"16,-101 16,-178 445,-178 445,-101 16,-101\" stroke=\"lightblue\"/><text font-family=\"Times,serif\" font-size=\"14.00\" text-anchor=\"middle\" x=\"230.5\" y=\"-161.4\">subworkflow: analysis</text></g><g class=\"cluster\" id=\"graph4\"><title>cluster_1</title><polygon fill=\"none\" points=\"253,-16 253,-93 454,-93 454,-16 253,-16\" stroke=\"lightgreen\"/><text font-family=\"Times,serif\" font-size=\"14.00\" text-anchor=\"middle\" x=\"353.5\" y=\"-76.4\">subworkflow: sleep</text></g><!-- f.b --><g class=\"node\" id=\"node2\"><title>f.b</title><polygon fill=\"none\" points=\"220,-145 166,-145 166,-109 220,-109 220,-145\" stroke=\"lightgray\"/><text font-family=\"Times,serif\" font-size=\"14.00\" text-anchor=\"middle\" x=\"193\" y=\"-122.8\">f.b</text></g><!-- analyze --><g class=\"node\" id=\"node8\"><title>analyze</title><ellipse cx=\"297\" cy=\"-127\" fill=\"none\" rx=\"40.548\" ry=\"18\" stroke=\"black\"/><text font-family=\"Times,serif\" font-size=\"14.00\" text-anchor=\"middle\" x=\"297\" y=\"-122.8\">analyze</text></g><!-- f.b&#45;&gt;analyze --><g class=\"edge\" id=\"edge5\"><title>f.b-&gt;analyze</title><path d=\"M220.003,-127C227.979,-127 237.04,-127 246.056,-127\" fill=\"none\" stroke=\"black\"/><polygon fill=\"black\" points=\"246.157,-130.5 256.157,-127 246.157,-123.5 246.157,-130.5\" stroke=\"black\"/></g><!-- f.c --><g class=\"node\" id=\"node3\"><title>f.c</title><polygon fill=\"none\" points=\"437,-145 383,-145 383,-109 437,-109 437,-145\" stroke=\"lightgray\"/><text font-family=\"Times,serif\" font-size=\"14.00\" text-anchor=\"middle\" x=\"410\" y=\"-122.8\">f.c</text></g><!-- ls --><g class=\"node\" id=\"node14\"><title>ls</title><ellipse cx=\"509\" cy=\"-84\" fill=\"none\" rx=\"27\" ry=\"18\" stroke=\"black\"/><text font-family=\"Times,serif\" font-size=\"14.00\" text-anchor=\"middle\" x=\"509\" y=\"-79.8\">ls</text></g><!-- f.c&#45;&gt;ls --><g class=\"edge\" id=\"edge13\"><title>f.c-&gt;ls</title><path d=\"M437.25,-115.364C449.411,-109.973 463.955,-103.525 476.685,-97.8818\" fill=\"none\" stroke=\"black\"/><polygon fill=\"black\" points=\"478.273,-101.006 485.997,-93.754 475.436,-94.607 478.273,-101.006\" stroke=\"black\"/></g><!-- ls_out.txt --><g class=\"node\" id=\"node4\"><title>ls_out.txt</title><polygon fill=\"none\" points=\"641.009,-102 572.991,-102 572.991,-66 641.009,-66 641.009,-102\" stroke=\"lightgray\"/><text font-family=\"Times,serif\" font-size=\"14.00\" text-anchor=\"middle\" x=\"607\" y=\"-79.8\">ls_out.txt</text></g><!-- preprocess --><g class=\"node\" id=\"node6\"><title>preprocess</title><ellipse cx=\"77\" cy=\"-127\" fill=\"none\" rx=\"52.1463\" ry=\"18\" stroke=\"black\"/><text font-family=\"Times,serif\" font-size=\"14.00\" text-anchor=\"middle\" x=\"77\" y=\"-122.8\">preprocess</text></g><!-- preprocess&#45;&gt;f.b --><g class=\"edge\" id=\"edge4\"><title>preprocess-&gt;f.b</title><path d=\"M129.331,-127C138.223,-127 147.302,-127 155.689,-127\" fill=\"none\" stroke=\"black\"/><polygon fill=\"black\" points=\"155.876,-130.5 165.876,-127 155.876,-123.5 155.876,-130.5\" stroke=\"black\"/></g><!-- analyze&#45;&gt;f.c --><g class=\"edge\" id=\"edge6\"><title>analyze-&gt;f.c</title><path d=\"M337.76,-127C349.074,-127 361.339,-127 372.453,-127\" fill=\"none\" stroke=\"black\"/><polygon fill=\"black\" points=\"372.686,-130.5 382.686,-127 372.686,-123.5 372.686,-130.5\" stroke=\"black\"/></g><!-- sleep1 --><g class=\"node\" id=\"node10\"><title>sleep1</title><ellipse cx=\"297\" cy=\"-42\" fill=\"none\" rx=\"35.9135\" ry=\"18\" stroke=\"black\"/><text font-family=\"Times,serif\" font-size=\"14.00\" text-anchor=\"middle\" x=\"297\" y=\"-37.8\">sleep1</text></g><!-- sleep2 --><g class=\"node\" id=\"node12\"><title>sleep2</title><ellipse cx=\"410\" cy=\"-42\" fill=\"none\" rx=\"35.9135\" ry=\"18\" stroke=\"black\"/><text font-family=\"Times,serif\" font-size=\"14.00\" text-anchor=\"middle\" x=\"410\" y=\"-37.8\">sleep2</text></g><!-- sleep1&#45;&gt;sleep2 --><g class=\"edge\" id=\"edge9\"><title>sleep1-&gt;sleep2</title><path d=\"M332.817,-42C342.64,-42 353.471,-42 363.809,-42\" fill=\"none\" stroke=\"black\"/><polygon fill=\"black\" points=\"363.925,-45.5001 373.925,-42 363.925,-38.5001 363.925,-45.5001\" stroke=\"black\"/></g><!-- sleep2&#45;&gt;ls --><g class=\"edge\" id=\"edge11\"><title>sleep2-&gt;ls</title><path d=\"M437.762,-53.5879C449.828,-58.812 464.156,-65.016 476.715,-70.4538\" fill=\"none\" stroke=\"black\"/><polygon fill=\"black\" points=\"475.339,-73.6722 485.907,-74.4338 478.121,-67.2485 475.339,-73.6722\" stroke=\"black\"/></g><!-- ls&#45;&gt;ls_out.txt --><g class=\"edge\" id=\"edge15\"><title>ls-&gt;ls_out.txt</title><path d=\"M536.232,-84C544.461,-84 553.772,-84 562.849,-84\" fill=\"none\" stroke=\"black\"/><polygon fill=\"black\" points=\"562.929,-87.5001 572.929,-84 562.929,-80.5001 562.929,-87.5001\" stroke=\"black\"/></g></g></svg>"
      ],
      "text/plain": [
       "<IPython.core.display.SVG object>"
      ]
     },
     "execution_count": 2,
     "metadata": {},
     "output_type": "execute_result"
    }
   ],
   "source": [
    "SVG(filename='diagram.svg')"
   ]
  },
  {
   "cell_type": "code",
   "execution_count": null,
   "metadata": {},
   "outputs": [],
   "source": [
    "props = Properties()\n",
    "####################????#######################\n",
    "props[\"pegasus.integrity.checking\"] = \"none\"\n",
    "####################????#######################\n",
    "props.write()"
   ]
  },
  {
   "cell_type": "code",
   "execution_count": null,
   "metadata": {},
   "outputs": [],
   "source": [
    "preprocess = Transformation(\n",
    "                \"preprocess\",\n",
    "                site=\"condorpool\",\n",
    "                pfn=\"/home/scitech/pegasus/dist/pegasus/bin/pegasus-keg\",\n",
    "                is_stageable=False\n",
    "            )\n",
    "\n",
    "analyze = Transformation(\n",
    "                \"analyze\",\n",
    "                site=\"condorpool\",\n",
    "                pfn=\"/home/scitech/pegasus/dist/pegasus/bin/pegasus-keg\",\n",
    "                is_stageable=False\n",
    "            )\n",
    "\n",
    "sleep = Transformation(\n",
    "                \"sleep\",\n",
    "                site=\"condorpool\",\n",
    "                pfn=\"/bin/sleep\",\n",
    "                is_stageable=False\n",
    "            )\n",
    "\n",
    "ls = Transformation(\n",
    "                \"ls\",\n",
    "                site=\"condorpool\",\n",
    "                pfn=\"/bin/ls\",\n",
    "                is_stageable=False\n",
    "            )\n",
    "\n",
    "TransformationCatalog()\\\n",
    "    .add_transformations(preprocess, analyze, sleep, ls)\\\n",
    "    .write()"
   ]
  },
  {
   "cell_type": "code",
   "execution_count": null,
   "metadata": {},
   "outputs": [],
   "source": [
    "Path(\"inputs\").mkdir(exist_ok=True)"
   ]
  },
  {
   "cell_type": "markdown",
   "metadata": {},
   "source": [
    "## SubWorkflow 1: Analysis"
   ]
  },
  {
   "cell_type": "code",
   "execution_count": null,
   "metadata": {},
   "outputs": [],
   "source": [
    "analysis_wf = Workflow(\"analysis-wf\")\n",
    "fb = File(\"f.b\")\n",
    "j_preprocess = Job(preprocess, _id=\"preprocess\")\\\n",
    "                .add_args(\"-a\", \"preproces\", \"-T\", 3, \"-o\", fb)\\\n",
    "                .add_outputs(fb)\n",
    "\n",
    "fc = File(\"f.c\")\n",
    "j_analyze = Job(analyze, _id=\"analyze\")\\\n",
    "            .add_args(\"-a\", \"analyze\", \"-T\", 5, \"-i\", fb, \"-o\", fc, \"-G\", 120)\\\n",
    "            .add_inputs(fb)\\\n",
    "            .add_outputs(fc, register_replica=False, stage_out=False)\n",
    "\n",
    "analysis_wf.add_jobs(j_preprocess, j_analyze)\n",
    "analysis_wf.write(\"inputs/analysis-wf.yml\")"
   ]
  },
  {
   "cell_type": "markdown",
   "metadata": {},
   "source": [
    "## SubWorkflow 2: Sleep"
   ]
  },
  {
   "cell_type": "code",
   "execution_count": null,
   "metadata": {},
   "outputs": [],
   "source": [
    "sleep_wf = Workflow(\"sleep-wf\")\n",
    "s1 = Job(sleep, _id=\"sleep1\").add_args(2)\n",
    "s2 = Job(sleep, _id=\"sleep2\").add_args(2)\n",
    "sleep_wf.add_jobs(s1, s2)\n",
    "sleep_wf.add_dependency(s1, children=[s2])\n",
    "sleep_wf.write(\"inputs/sleep-wf.yml\")"
   ]
  },
  {
   "cell_type": "markdown",
   "metadata": {},
   "source": [
    "## Root Workflow"
   ]
  },
  {
   "cell_type": "code",
   "execution_count": null,
   "metadata": {},
   "outputs": [],
   "source": [
    "h_wf = Workflow(\"hierarchical-wf\")\n",
    "\n",
    "analysis_wf_job = SubWorkflow(\"analysis-wf.yml\", is_planned=False)\\\n",
    "                    .add_args(\"--input-dir\", \"inputs\", \"--output-sites\", \"local\", \"--force\")\\\n",
    "                    .add_outputs(fc)\n",
    "\n",
    "sleep_wf_job = SubWorkflow(\"sleep-wf.yml\", is_planned=False)\\\n",
    "                .add_args(\"--output-sites\", \"local\")\n",
    "\n",
    "ls_job = Job(ls, _id=\"ls\")\\\n",
    "            .add_args(\"-alh\", fc)\\\n",
    "            .add_inputs(fc)\\\n",
    "            .set_stdout(\"ls_out.txt\")\n",
    "\n",
    "h_wf.add_jobs(analysis_wf_job, sleep_wf_job, ls_job)"
   ]
  },
  {
   "cell_type": "code",
   "execution_count": null,
   "metadata": {},
   "outputs": [],
   "source": [
    "try:\n",
    "    h_wf.plan(submit=True, input_dirs=[\"inputs\"])\n",
    "except PegasusClientError as e:\n",
    "    print(e.output)"
   ]
  }
 ],
 "metadata": {
  "kernelspec": {
   "display_name": "Python 3",
   "language": "python",
   "name": "python3"
  },
  "language_info": {
   "codemirror_mode": {
    "name": "ipython",
    "version": 3
   },
   "file_extension": ".py",
   "mimetype": "text/x-python",
   "name": "python",
   "nbconvert_exporter": "python",
   "pygments_lexer": "ipython3",
   "version": "3.6.8"
  }
 },
 "nbformat": 4,
 "nbformat_minor": 4
}
