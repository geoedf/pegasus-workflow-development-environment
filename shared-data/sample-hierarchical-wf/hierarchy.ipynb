{
 "cells": [
  {
   "cell_type": "code",
   "execution_count": null,
   "metadata": {},
   "outputs": [],
   "source": [
    "import logging\n",
    "from pathlib import Path\n",
    "from IPython.core.display import SVG\n",
    "from Pegasus.api import *\n",
    "\n",
    "logging.basicConfig(level=logging.DEBUG)"
   ]
  },
  {
   "cell_type": "markdown",
   "metadata": {},
   "source": [
    "# Hierarchical Workflow"
   ]
  },
  {
   "cell_type": "code",
   "execution_count": null,
   "metadata": {},
   "outputs": [],
   "source": [
    "SVG(filename='diagram.svg')"
   ]
  },
  {
   "cell_type": "code",
   "execution_count": null,
   "metadata": {},
   "outputs": [],
   "source": [
    "props = Properties()\n",
    "####################????#######################\n",
    "props[\"pegasus.integrity.checking\"] = \"none\"\n",
    "####################????#######################\n",
    "props.write()"
   ]
  },
  {
   "cell_type": "code",
   "execution_count": null,
   "metadata": {},
   "outputs": [],
   "source": [
    "preprocess = Transformation(\n",
    "                \"preprocess\",\n",
    "                site=\"condorpool\",\n",
    "                pfn=\"/home/scitech/pegasus/dist/pegasus/bin/pegasus-keg\",\n",
    "                is_stageable=False\n",
    "            )\n",
    "\n",
    "analyze = Transformation(\n",
    "                \"analyze\",\n",
    "                site=\"condorpool\",\n",
    "                pfn=\"/home/scitech/pegasus/dist/pegasus/bin/pegasus-keg\",\n",
    "                is_stageable=False\n",
    "            )\n",
    "\n",
    "sleep = Transformation(\n",
    "                \"sleep\",\n",
    "                site=\"condorpool\",\n",
    "                pfn=\"/bin/sleep\",\n",
    "                is_stageable=False\n",
    "            )\n",
    "\n",
    "ls = Transformation(\n",
    "                \"ls\",\n",
    "                site=\"condorpool\",\n",
    "                pfn=\"/bin/ls\",\n",
    "                is_stageable=False\n",
    "            )\n",
    "\n",
    "TransformationCatalog()\\\n",
    "    .add_transformations(preprocess, analyze, sleep, ls)\\\n",
    "    .write()"
   ]
  },
  {
   "cell_type": "code",
   "execution_count": null,
   "metadata": {},
   "outputs": [],
   "source": [
    "Path(\"inputs\").mkdir(exist_ok=True)"
   ]
  },
  {
   "cell_type": "markdown",
   "metadata": {},
   "source": [
    "## SubWorkflow 1: Analysis"
   ]
  },
  {
   "cell_type": "code",
   "execution_count": null,
   "metadata": {},
   "outputs": [],
   "source": [
    "analysis_wf = Workflow(\"analysis-wf\")\n",
    "fb = File(\"f.b\")\n",
    "j_preprocess = Job(preprocess, _id=\"preprocess\")\\\n",
    "                .add_args(\"-a\", \"preproces\", \"-T\", 3, \"-o\", fb)\\\n",
    "                .add_outputs(fb)\n",
    "\n",
    "fc = File(\"f.c\")\n",
    "j_analyze = Job(analyze, _id=\"analyze\")\\\n",
    "            .add_args(\"-a\", \"analyze\", \"-T\", 5, \"-i\", fb, \"-o\", fc, \"-G\", 120)\\\n",
    "            .add_inputs(fb)\\\n",
    "            .add_outputs(fc, register_replica=False, stage_out=False)\n",
    "\n",
    "analysis_wf.add_jobs(j_preprocess, j_analyze)\n",
    "analysis_wf.write(\"inputs/analysis-wf.yml\")"
   ]
  },
  {
   "cell_type": "markdown",
   "metadata": {},
   "source": [
    "## SubWorkflow 2: Sleep"
   ]
  },
  {
   "cell_type": "code",
   "execution_count": null,
   "metadata": {},
   "outputs": [],
   "source": [
    "sleep_wf = Workflow(\"sleep-wf\")\n",
    "s1 = Job(sleep, _id=\"sleep1\").add_args(2)\n",
    "s2 = Job(sleep, _id=\"sleep2\").add_args(2)\n",
    "sleep_wf.add_jobs(s1, s2)\n",
    "sleep_wf.add_dependency(s1, children=[s2])\n",
    "sleep_wf.write(\"inputs/sleep-wf.yml\")"
   ]
  },
  {
   "cell_type": "markdown",
   "metadata": {},
   "source": [
    "## Root Workflow"
   ]
  },
  {
   "cell_type": "code",
   "execution_count": null,
   "metadata": {},
   "outputs": [],
   "source": [
    "h_wf = Workflow(\"hierarchical-wf\")\n",
    "\n",
    "analysis_wf_job = SubWorkflow(\"analysis-wf.yml\", is_planned=False)\\\n",
    "                    .add_args(\"--input-dir\", \"inputs\", \"--output-sites\", \"local\", \"--force\")\\\n",
    "                    .add_outputs(fc)\n",
    "\n",
    "sleep_wf_job = SubWorkflow(\"sleep-wf.yml\", is_planned=False)\\\n",
    "                .add_args(\"--output-sites\", \"local\")\n",
    "\n",
    "ls_job = Job(ls, _id=\"ls\")\\\n",
    "            .add_args(\"-alh\", fc)\\\n",
    "            .add_inputs(fc)\\\n",
    "            .set_stdout(\"ls_out.txt\")\n",
    "\n",
    "h_wf.add_jobs(analysis_wf_job, sleep_wf_job, ls_job)\n",
    "h_wf.add_dependency(sleep_wf_job, children=[ls_job])\n"
   ]
  },
  {
   "cell_type": "code",
   "execution_count": null,
   "metadata": {},
   "outputs": [],
   "source": [
    "try:\n",
    "    h_wf.plan(submit=True, input_dirs=[\"inputs\"])\n",
    "except PegasusClientError as e:\n",
    "    print(e.output)"
   ]
  },
  {
   "cell_type": "code",
   "execution_count": null,
   "metadata": {},
   "outputs": [],
   "source": []
  }
 ],
 "metadata": {
  "kernelspec": {
   "display_name": "Python 3",
   "language": "python",
   "name": "python3"
  },
  "language_info": {
   "codemirror_mode": {
    "name": "ipython",
    "version": 3
   },
   "file_extension": ".py",
   "mimetype": "text/x-python",
   "name": "python",
   "nbconvert_exporter": "python",
   "pygments_lexer": "ipython3",
   "version": "3.6.8"
  }
 },
 "nbformat": 4,
 "nbformat_minor": 4
}
