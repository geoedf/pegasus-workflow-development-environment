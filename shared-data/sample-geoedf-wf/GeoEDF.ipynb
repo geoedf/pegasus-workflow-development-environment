{
 "cells": [
  {
   "cell_type": "markdown",
   "metadata": {},
   "source": [
    "# Sample GeoEDF Workflow\n",
    "\n",
    "This notebook demonstrates how a new connector or processor can be tested in a GeoEDF workflow before submitting a PR to the official repository.\n",
    "\n",
    "## Usage\n",
    "\n",
    "At a high level, there are two key steps:\n",
    "\n",
    "1. Build a Singularity container out of the connector or processor and store it at a standard path.\n",
    "2. Create a GeoEDF workflow that references this connector or processor and test it."
   ]
  },
  {
   "cell_type": "markdown",
   "metadata": {},
   "source": [
    "## Step 1: Build Singularity container\n",
    "\n",
    "A new date time filter is being developed with the name ``DTFilter``. You can build a local Singularity image for this new plugin by following these steps:\n",
    "1. Create the Singularity recipe file using the ``hpccm`` utility.\n",
    "2. Build the Singularity container image (named appropriately) using the recipe file.\n",
    "3. Copy the container image to the standard ``/images`` path where GeoEDF will find it.\n",
    "\n",
    "These commands have been helpfully added to a script at ``/home/scitech/shared-data/build-local-image.sh``. "
   ]
  },
  {
   "cell_type": "code",
   "execution_count": null,
   "metadata": {
    "scrolled": false
   },
   "outputs": [],
   "source": [
    "!/home/scitech/shared-data/build-local-image.sh"
   ]
  },
  {
   "cell_type": "markdown",
   "metadata": {},
   "source": [
    "## Step 2: Usage\n",
    "\n",
    "We will now use this newly created filter plugin in a workflow. Take a look at the file ``/home/scitech/shared-data/sample-geoedf-wf/mcd15.yml``. This workflow will be processed and executed using GeoEDF."
   ]
  },
  {
   "cell_type": "code",
   "execution_count": null,
   "metadata": {},
   "outputs": [],
   "source": [
    "from geoedfengine.GeoEDFWorkflow import GeoEDFWorkflow"
   ]
  },
  {
   "cell_type": "code",
   "execution_count": null,
   "metadata": {},
   "outputs": [],
   "source": [
    "workflow = GeoEDFWorkflow('/home/scitech/shared-data/sample-geoedf-wf/mcd15.yml')"
   ]
  },
  {
   "cell_type": "code",
   "execution_count": null,
   "metadata": {},
   "outputs": [],
   "source": [
    "workflow.execute()"
   ]
  }
 ],
 "metadata": {
  "kernelspec": {
   "display_name": "Python 3",
   "language": "python",
   "name": "python3"
  },
  "language_info": {
   "codemirror_mode": {
    "name": "ipython",
    "version": 3
   },
   "file_extension": ".py",
   "mimetype": "text/x-python",
   "name": "python",
   "nbconvert_exporter": "python",
   "pygments_lexer": "ipython3",
   "version": "3.6.8"
  }
 },
 "nbformat": 4,
 "nbformat_minor": 4
}
